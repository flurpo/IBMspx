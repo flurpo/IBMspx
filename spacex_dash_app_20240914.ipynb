{
  "cells": [
    {
      "cell_type": "code",
      "execution_count": 1,
      "metadata": {
        "colab": {
          "base_uri": "https://localhost:8080/"
        },
        "id": "bkyqnLxVP022",
        "outputId": "a0908503-16f6-4c92-eba8-04b22fbc933b"
      },
      "outputs": [
        {
          "name": "stdout",
          "output_type": "stream",
          "text": [
            "Requirement already satisfied: pandas in c:\\users\\admin\\appdata\\local\\packages\\pythonsoftwarefoundation.python.3.11_qbz5n2kfra8p0\\localcache\\local-packages\\python311\\site-packages (2.2.3)\n",
            "Requirement already satisfied: numpy>=1.23.2 in c:\\users\\admin\\appdata\\local\\packages\\pythonsoftwarefoundation.python.3.11_qbz5n2kfra8p0\\localcache\\local-packages\\python311\\site-packages (from pandas) (2.2.1)\n",
            "Requirement already satisfied: python-dateutil>=2.8.2 in c:\\users\\admin\\appdata\\local\\packages\\pythonsoftwarefoundation.python.3.11_qbz5n2kfra8p0\\localcache\\local-packages\\python311\\site-packages (from pandas) (2.9.0.post0)\n",
            "Requirement already satisfied: pytz>=2020.1 in c:\\users\\admin\\appdata\\local\\packages\\pythonsoftwarefoundation.python.3.11_qbz5n2kfra8p0\\localcache\\local-packages\\python311\\site-packages (from pandas) (2024.2)\n",
            "Requirement already satisfied: tzdata>=2022.7 in c:\\users\\admin\\appdata\\local\\packages\\pythonsoftwarefoundation.python.3.11_qbz5n2kfra8p0\\localcache\\local-packages\\python311\\site-packages (from pandas) (2024.2)\n",
            "Requirement already satisfied: six>=1.5 in c:\\users\\admin\\appdata\\local\\packages\\pythonsoftwarefoundation.python.3.11_qbz5n2kfra8p0\\localcache\\local-packages\\python311\\site-packages (from python-dateutil>=2.8.2->pandas) (1.17.0)\n"
          ]
        },
        {
          "name": "stderr",
          "output_type": "stream",
          "text": [
            "\n",
            "[notice] A new release of pip is available: 24.0 -> 24.3.1\n",
            "[notice] To update, run: C:\\Users\\Admin\\AppData\\Local\\Microsoft\\WindowsApps\\PythonSoftwareFoundation.Python.3.11_qbz5n2kfra8p0\\python.exe -m pip install --upgrade pip\n"
          ]
        },
        {
          "name": "stdout",
          "output_type": "stream",
          "text": [
            "Collecting plotly\n",
            "  Downloading plotly-5.24.1-py3-none-any.whl.metadata (7.3 kB)\n",
            "Collecting tenacity>=6.2.0 (from plotly)\n",
            "  Downloading tenacity-9.0.0-py3-none-any.whl.metadata (1.2 kB)\n",
            "Requirement already satisfied: packaging in c:\\users\\admin\\appdata\\local\\packages\\pythonsoftwarefoundation.python.3.11_qbz5n2kfra8p0\\localcache\\local-packages\\python311\\site-packages (from plotly) (24.2)\n",
            "Downloading plotly-5.24.1-py3-none-any.whl (19.1 MB)\n",
            "   ---------------------------------------- 0.0/19.1 MB ? eta -:--:--\n",
            "   ---------------------------------------- 0.0/19.1 MB ? eta -:--:--\n",
            "   ---------------------------------------- 0.1/19.1 MB 991.0 kB/s eta 0:00:20\n",
            "   - -------------------------------------- 0.6/19.1 MB 5.0 MB/s eta 0:00:04\n",
            "   ---- ----------------------------------- 1.9/19.1 MB 12.3 MB/s eta 0:00:02\n",
            "   ------- -------------------------------- 3.8/19.1 MB 18.6 MB/s eta 0:00:01\n",
            "   ------------ --------------------------- 5.7/19.1 MB 22.9 MB/s eta 0:00:01\n",
            "   ----------------- ---------------------- 8.2/19.1 MB 27.5 MB/s eta 0:00:01\n",
            "   ---------------------- ----------------- 10.7/19.1 MB 43.5 MB/s eta 0:00:01\n",
            "   ---------------------------- ----------- 13.4/19.1 MB 50.1 MB/s eta 0:00:01\n",
            "   ---------------------------------- ----- 16.2/19.1 MB 54.7 MB/s eta 0:00:01\n",
            "   ---------------------------------------  19.0/19.1 MB 54.7 MB/s eta 0:00:01\n",
            "   ---------------------------------------  19.0/19.1 MB 59.5 MB/s eta 0:00:01\n",
            "   ---------------------------------------- 19.1/19.1 MB 43.5 MB/s eta 0:00:00\n",
            "Downloading tenacity-9.0.0-py3-none-any.whl (28 kB)\n",
            "Installing collected packages: tenacity, plotly\n",
            "Successfully installed plotly-5.24.1 tenacity-9.0.0\n"
          ]
        },
        {
          "name": "stderr",
          "output_type": "stream",
          "text": [
            "\n",
            "[notice] A new release of pip is available: 24.0 -> 24.3.1\n",
            "[notice] To update, run: C:\\Users\\Admin\\AppData\\Local\\Microsoft\\WindowsApps\\PythonSoftwareFoundation.Python.3.11_qbz5n2kfra8p0\\python.exe -m pip install --upgrade pip\n"
          ]
        },
        {
          "name": "stdout",
          "output_type": "stream",
          "text": [
            "Collecting dash\n",
            "  Downloading dash-2.18.2-py3-none-any.whl.metadata (10 kB)\n",
            "Collecting Flask<3.1,>=1.0.4 (from dash)\n",
            "  Downloading flask-3.0.3-py3-none-any.whl.metadata (3.2 kB)\n",
            "Collecting Werkzeug<3.1 (from dash)\n",
            "  Downloading werkzeug-3.0.6-py3-none-any.whl.metadata (3.7 kB)\n",
            "Requirement already satisfied: plotly>=5.0.0 in c:\\users\\admin\\appdata\\local\\packages\\pythonsoftwarefoundation.python.3.11_qbz5n2kfra8p0\\localcache\\local-packages\\python311\\site-packages (from dash) (5.24.1)\n",
            "Collecting dash-html-components==2.0.0 (from dash)\n",
            "  Downloading dash_html_components-2.0.0-py3-none-any.whl.metadata (3.8 kB)\n",
            "Collecting dash-core-components==2.0.0 (from dash)\n",
            "  Downloading dash_core_components-2.0.0-py3-none-any.whl.metadata (2.9 kB)\n",
            "Collecting dash-table==5.0.0 (from dash)\n",
            "  Downloading dash_table-5.0.0-py3-none-any.whl.metadata (2.4 kB)\n",
            "Collecting importlib-metadata (from dash)\n",
            "  Downloading importlib_metadata-8.5.0-py3-none-any.whl.metadata (4.8 kB)\n",
            "Requirement already satisfied: typing-extensions>=4.1.1 in c:\\users\\admin\\appdata\\local\\packages\\pythonsoftwarefoundation.python.3.11_qbz5n2kfra8p0\\localcache\\local-packages\\python311\\site-packages (from dash) (4.12.2)\n",
            "Requirement already satisfied: requests in c:\\users\\admin\\appdata\\local\\packages\\pythonsoftwarefoundation.python.3.11_qbz5n2kfra8p0\\localcache\\local-packages\\python311\\site-packages (from dash) (2.32.3)\n",
            "Collecting retrying (from dash)\n",
            "  Downloading retrying-1.3.4-py3-none-any.whl.metadata (6.9 kB)\n",
            "Requirement already satisfied: nest-asyncio in c:\\users\\admin\\appdata\\local\\packages\\pythonsoftwarefoundation.python.3.11_qbz5n2kfra8p0\\localcache\\local-packages\\python311\\site-packages (from dash) (1.6.0)\n",
            "Requirement already satisfied: setuptools in c:\\program files\\windowsapps\\pythonsoftwarefoundation.python.3.11_3.11.2544.0_x64__qbz5n2kfra8p0\\lib\\site-packages (from dash) (65.5.0)\n",
            "Requirement already satisfied: Jinja2>=3.1.2 in c:\\users\\admin\\appdata\\local\\packages\\pythonsoftwarefoundation.python.3.11_qbz5n2kfra8p0\\localcache\\local-packages\\python311\\site-packages (from Flask<3.1,>=1.0.4->dash) (3.1.5)\n",
            "Collecting itsdangerous>=2.1.2 (from Flask<3.1,>=1.0.4->dash)\n",
            "  Downloading itsdangerous-2.2.0-py3-none-any.whl.metadata (1.9 kB)\n",
            "Collecting click>=8.1.3 (from Flask<3.1,>=1.0.4->dash)\n",
            "  Downloading click-8.1.8-py3-none-any.whl.metadata (2.3 kB)\n",
            "Collecting blinker>=1.6.2 (from Flask<3.1,>=1.0.4->dash)\n",
            "  Downloading blinker-1.9.0-py3-none-any.whl.metadata (1.6 kB)\n",
            "Requirement already satisfied: tenacity>=6.2.0 in c:\\users\\admin\\appdata\\local\\packages\\pythonsoftwarefoundation.python.3.11_qbz5n2kfra8p0\\localcache\\local-packages\\python311\\site-packages (from plotly>=5.0.0->dash) (9.0.0)\n",
            "Requirement already satisfied: packaging in c:\\users\\admin\\appdata\\local\\packages\\pythonsoftwarefoundation.python.3.11_qbz5n2kfra8p0\\localcache\\local-packages\\python311\\site-packages (from plotly>=5.0.0->dash) (24.2)\n",
            "Requirement already satisfied: MarkupSafe>=2.1.1 in c:\\users\\admin\\appdata\\local\\packages\\pythonsoftwarefoundation.python.3.11_qbz5n2kfra8p0\\localcache\\local-packages\\python311\\site-packages (from Werkzeug<3.1->dash) (3.0.2)\n",
            "Collecting zipp>=3.20 (from importlib-metadata->dash)\n",
            "  Downloading zipp-3.21.0-py3-none-any.whl.metadata (3.7 kB)\n",
            "Requirement already satisfied: charset-normalizer<4,>=2 in c:\\users\\admin\\appdata\\local\\packages\\pythonsoftwarefoundation.python.3.11_qbz5n2kfra8p0\\localcache\\local-packages\\python311\\site-packages (from requests->dash) (3.4.1)\n",
            "Requirement already satisfied: idna<4,>=2.5 in c:\\users\\admin\\appdata\\local\\packages\\pythonsoftwarefoundation.python.3.11_qbz5n2kfra8p0\\localcache\\local-packages\\python311\\site-packages (from requests->dash) (3.10)\n",
            "Requirement already satisfied: urllib3<3,>=1.21.1 in c:\\users\\admin\\appdata\\local\\packages\\pythonsoftwarefoundation.python.3.11_qbz5n2kfra8p0\\localcache\\local-packages\\python311\\site-packages (from requests->dash) (2.3.0)\n",
            "Requirement already satisfied: certifi>=2017.4.17 in c:\\users\\admin\\appdata\\local\\packages\\pythonsoftwarefoundation.python.3.11_qbz5n2kfra8p0\\localcache\\local-packages\\python311\\site-packages (from requests->dash) (2024.12.14)\n",
            "Requirement already satisfied: six>=1.7.0 in c:\\users\\admin\\appdata\\local\\packages\\pythonsoftwarefoundation.python.3.11_qbz5n2kfra8p0\\localcache\\local-packages\\python311\\site-packages (from retrying->dash) (1.17.0)\n",
            "Requirement already satisfied: colorama in c:\\users\\admin\\appdata\\local\\packages\\pythonsoftwarefoundation.python.3.11_qbz5n2kfra8p0\\localcache\\local-packages\\python311\\site-packages (from click>=8.1.3->Flask<3.1,>=1.0.4->dash) (0.4.6)\n",
            "Downloading dash-2.18.2-py3-none-any.whl (7.8 MB)\n",
            "   ---------------------------------------- 0.0/7.8 MB ? eta -:--:--\n",
            "   - -------------------------------------- 0.2/7.8 MB 4.4 MB/s eta 0:00:02\n",
            "   ----- ---------------------------------- 1.1/7.8 MB 11.1 MB/s eta 0:00:01\n",
            "   ---------- ----------------------------- 2.1/7.8 MB 14.9 MB/s eta 0:00:01\n",
            "   ---------------- ----------------------- 3.3/7.8 MB 17.3 MB/s eta 0:00:01\n",
            "   ----------------------- ---------------- 4.6/7.8 MB 19.7 MB/s eta 0:00:01\n",
            "   ------------------------------- -------- 6.1/7.8 MB 21.6 MB/s eta 0:00:01\n",
            "   ---------------------------------------  7.8/7.8 MB 23.7 MB/s eta 0:00:01\n",
            "   ---------------------------------------- 7.8/7.8 MB 21.6 MB/s eta 0:00:00\n",
            "Downloading dash_core_components-2.0.0-py3-none-any.whl (3.8 kB)\n",
            "Downloading dash_html_components-2.0.0-py3-none-any.whl (4.1 kB)\n",
            "Downloading dash_table-5.0.0-py3-none-any.whl (3.9 kB)\n",
            "Downloading flask-3.0.3-py3-none-any.whl (101 kB)\n",
            "   ---------------------------------------- 0.0/101.7 kB ? eta -:--:--\n",
            "   ---------------------------------------- 101.7/101.7 kB ? eta 0:00:00\n",
            "Downloading werkzeug-3.0.6-py3-none-any.whl (227 kB)\n",
            "   ---------------------------------------- 0.0/228.0 kB ? eta -:--:--\n",
            "   --------------------------------------- 228.0/228.0 kB 13.6 MB/s eta 0:00:00\n",
            "Downloading importlib_metadata-8.5.0-py3-none-any.whl (26 kB)\n",
            "Downloading retrying-1.3.4-py3-none-any.whl (11 kB)\n",
            "Downloading blinker-1.9.0-py3-none-any.whl (8.5 kB)\n",
            "Downloading click-8.1.8-py3-none-any.whl (98 kB)\n",
            "   ---------------------------------------- 0.0/98.2 kB ? eta -:--:--\n",
            "   ---------------------------------------- 98.2/98.2 kB 5.9 MB/s eta 0:00:00\n",
            "Downloading itsdangerous-2.2.0-py3-none-any.whl (16 kB)\n",
            "Downloading zipp-3.21.0-py3-none-any.whl (9.6 kB)\n",
            "Installing collected packages: dash-table, dash-html-components, dash-core-components, zipp, Werkzeug, retrying, itsdangerous, click, blinker, importlib-metadata, Flask, dash\n",
            "Successfully installed Flask-3.0.3 Werkzeug-3.0.6 blinker-1.9.0 click-8.1.8 dash-2.18.2 dash-core-components-2.0.0 dash-html-components-2.0.0 dash-table-5.0.0 importlib-metadata-8.5.0 itsdangerous-2.2.0 retrying-1.3.4 zipp-3.21.0\n"
          ]
        },
        {
          "name": "stderr",
          "output_type": "stream",
          "text": [
            "\n",
            "[notice] A new release of pip is available: 24.0 -> 24.3.1\n",
            "[notice] To update, run: C:\\Users\\Admin\\AppData\\Local\\Microsoft\\WindowsApps\\PythonSoftwareFoundation.Python.3.11_qbz5n2kfra8p0\\python.exe -m pip install --upgrade pip\n"
          ]
        },
        {
          "name": "stdout",
          "output_type": "stream",
          "text": [
            "Requirement already satisfied: dash-html-components in c:\\users\\admin\\appdata\\local\\packages\\pythonsoftwarefoundation.python.3.11_qbz5n2kfra8p0\\localcache\\local-packages\\python311\\site-packages (2.0.0)\n"
          ]
        },
        {
          "name": "stderr",
          "output_type": "stream",
          "text": [
            "\n",
            "[notice] A new release of pip is available: 24.0 -> 24.3.1\n",
            "[notice] To update, run: C:\\Users\\Admin\\AppData\\Local\\Microsoft\\WindowsApps\\PythonSoftwareFoundation.Python.3.11_qbz5n2kfra8p0\\python.exe -m pip install --upgrade pip\n"
          ]
        },
        {
          "name": "stdout",
          "output_type": "stream",
          "text": [
            "Requirement already satisfied: dash-core-components in c:\\users\\admin\\appdata\\local\\packages\\pythonsoftwarefoundation.python.3.11_qbz5n2kfra8p0\\localcache\\local-packages\\python311\\site-packages (2.0.0)\n"
          ]
        },
        {
          "name": "stderr",
          "output_type": "stream",
          "text": [
            "\n",
            "[notice] A new release of pip is available: 24.0 -> 24.3.1\n",
            "[notice] To update, run: C:\\Users\\Admin\\AppData\\Local\\Microsoft\\WindowsApps\\PythonSoftwareFoundation.Python.3.11_qbz5n2kfra8p0\\python.exe -m pip install --upgrade pip\n"
          ]
        },
        {
          "name": "stdout",
          "output_type": "stream",
          "text": [
            "Requirement already satisfied: requests in c:\\users\\admin\\appdata\\local\\packages\\pythonsoftwarefoundation.python.3.11_qbz5n2kfra8p0\\localcache\\local-packages\\python311\\site-packages (2.32.3)\n",
            "Requirement already satisfied: charset-normalizer<4,>=2 in c:\\users\\admin\\appdata\\local\\packages\\pythonsoftwarefoundation.python.3.11_qbz5n2kfra8p0\\localcache\\local-packages\\python311\\site-packages (from requests) (3.4.1)\n",
            "Requirement already satisfied: idna<4,>=2.5 in c:\\users\\admin\\appdata\\local\\packages\\pythonsoftwarefoundation.python.3.11_qbz5n2kfra8p0\\localcache\\local-packages\\python311\\site-packages (from requests) (3.10)\n",
            "Requirement already satisfied: urllib3<3,>=1.21.1 in c:\\users\\admin\\appdata\\local\\packages\\pythonsoftwarefoundation.python.3.11_qbz5n2kfra8p0\\localcache\\local-packages\\python311\\site-packages (from requests) (2.3.0)\n",
            "Requirement already satisfied: certifi>=2017.4.17 in c:\\users\\admin\\appdata\\local\\packages\\pythonsoftwarefoundation.python.3.11_qbz5n2kfra8p0\\localcache\\local-packages\\python311\\site-packages (from requests) (2024.12.14)\n"
          ]
        },
        {
          "name": "stderr",
          "output_type": "stream",
          "text": [
            "\n",
            "[notice] A new release of pip is available: 24.0 -> 24.3.1\n",
            "[notice] To update, run: C:\\Users\\Admin\\AppData\\Local\\Microsoft\\WindowsApps\\PythonSoftwareFoundation.Python.3.11_qbz5n2kfra8p0\\python.exe -m pip install --upgrade pip\n"
          ]
        },
        {
          "name": "stdout",
          "output_type": "stream",
          "text": [
            "Collecting wget\n",
            "  Downloading wget-3.2.zip (10 kB)\n",
            "  Installing build dependencies: started\n",
            "  Installing build dependencies: finished with status 'done'\n",
            "  Getting requirements to build wheel: started\n",
            "  Getting requirements to build wheel: finished with status 'done'\n",
            "  Preparing metadata (pyproject.toml): started\n",
            "  Preparing metadata (pyproject.toml): finished with status 'done'\n",
            "Building wheels for collected packages: wget\n",
            "  Building wheel for wget (pyproject.toml): started\n",
            "  Building wheel for wget (pyproject.toml): finished with status 'done'\n",
            "  Created wheel for wget: filename=wget-3.2-py3-none-any.whl size=9681 sha256=fb10962cc2567b66a7793fb62c49fac90062166dafd3ef762e927009c9303f4f\n",
            "  Stored in directory: c:\\users\\admin\\appdata\\local\\packages\\pythonsoftwarefoundation.python.3.11_qbz5n2kfra8p0\\localcache\\local\\pip\\cache\\wheels\\40\\b3\\0f\\a40dbd1c6861731779f62cc4babcb234387e11d697df70ee97\n",
            "Successfully built wget\n",
            "Installing collected packages: wget\n",
            "Successfully installed wget-3.2\n"
          ]
        },
        {
          "name": "stderr",
          "output_type": "stream",
          "text": [
            "\n",
            "[notice] A new release of pip is available: 24.0 -> 24.3.1\n",
            "[notice] To update, run: C:\\Users\\Admin\\AppData\\Local\\Microsoft\\WindowsApps\\PythonSoftwareFoundation.Python.3.11_qbz5n2kfra8p0\\python.exe -m pip install --upgrade pip\n"
          ]
        },
        {
          "name": "stdout",
          "output_type": "stream",
          "text": [
            "Collecting jupyter_dash\n",
            "  Downloading jupyter_dash-0.4.2-py3-none-any.whl.metadata (3.6 kB)\n",
            "Requirement already satisfied: dash in c:\\users\\admin\\appdata\\local\\packages\\pythonsoftwarefoundation.python.3.11_qbz5n2kfra8p0\\localcache\\local-packages\\python311\\site-packages (from jupyter_dash) (2.18.2)\n",
            "Requirement already satisfied: requests in c:\\users\\admin\\appdata\\local\\packages\\pythonsoftwarefoundation.python.3.11_qbz5n2kfra8p0\\localcache\\local-packages\\python311\\site-packages (from jupyter_dash) (2.32.3)\n",
            "Requirement already satisfied: flask in c:\\users\\admin\\appdata\\local\\packages\\pythonsoftwarefoundation.python.3.11_qbz5n2kfra8p0\\localcache\\local-packages\\python311\\site-packages (from jupyter_dash) (3.0.3)\n",
            "Requirement already satisfied: retrying in c:\\users\\admin\\appdata\\local\\packages\\pythonsoftwarefoundation.python.3.11_qbz5n2kfra8p0\\localcache\\local-packages\\python311\\site-packages (from jupyter_dash) (1.3.4)\n",
            "Requirement already satisfied: ipython in c:\\users\\admin\\appdata\\local\\packages\\pythonsoftwarefoundation.python.3.11_qbz5n2kfra8p0\\localcache\\local-packages\\python311\\site-packages (from jupyter_dash) (8.31.0)\n",
            "Requirement already satisfied: ipykernel in c:\\users\\admin\\appdata\\local\\packages\\pythonsoftwarefoundation.python.3.11_qbz5n2kfra8p0\\localcache\\local-packages\\python311\\site-packages (from jupyter_dash) (6.29.5)\n",
            "Collecting ansi2html (from jupyter_dash)\n",
            "  Downloading ansi2html-1.9.2-py3-none-any.whl.metadata (3.7 kB)\n",
            "Requirement already satisfied: nest-asyncio in c:\\users\\admin\\appdata\\local\\packages\\pythonsoftwarefoundation.python.3.11_qbz5n2kfra8p0\\localcache\\local-packages\\python311\\site-packages (from jupyter_dash) (1.6.0)\n",
            "Requirement already satisfied: Werkzeug<3.1 in c:\\users\\admin\\appdata\\local\\packages\\pythonsoftwarefoundation.python.3.11_qbz5n2kfra8p0\\localcache\\local-packages\\python311\\site-packages (from dash->jupyter_dash) (3.0.6)\n",
            "Requirement already satisfied: plotly>=5.0.0 in c:\\users\\admin\\appdata\\local\\packages\\pythonsoftwarefoundation.python.3.11_qbz5n2kfra8p0\\localcache\\local-packages\\python311\\site-packages (from dash->jupyter_dash) (5.24.1)\n",
            "Requirement already satisfied: dash-html-components==2.0.0 in c:\\users\\admin\\appdata\\local\\packages\\pythonsoftwarefoundation.python.3.11_qbz5n2kfra8p0\\localcache\\local-packages\\python311\\site-packages (from dash->jupyter_dash) (2.0.0)\n",
            "Requirement already satisfied: dash-core-components==2.0.0 in c:\\users\\admin\\appdata\\local\\packages\\pythonsoftwarefoundation.python.3.11_qbz5n2kfra8p0\\localcache\\local-packages\\python311\\site-packages (from dash->jupyter_dash) (2.0.0)\n",
            "Requirement already satisfied: dash-table==5.0.0 in c:\\users\\admin\\appdata\\local\\packages\\pythonsoftwarefoundation.python.3.11_qbz5n2kfra8p0\\localcache\\local-packages\\python311\\site-packages (from dash->jupyter_dash) (5.0.0)\n",
            "Requirement already satisfied: importlib-metadata in c:\\users\\admin\\appdata\\local\\packages\\pythonsoftwarefoundation.python.3.11_qbz5n2kfra8p0\\localcache\\local-packages\\python311\\site-packages (from dash->jupyter_dash) (8.5.0)\n",
            "Requirement already satisfied: typing-extensions>=4.1.1 in c:\\users\\admin\\appdata\\local\\packages\\pythonsoftwarefoundation.python.3.11_qbz5n2kfra8p0\\localcache\\local-packages\\python311\\site-packages (from dash->jupyter_dash) (4.12.2)\n",
            "Requirement already satisfied: setuptools in c:\\program files\\windowsapps\\pythonsoftwarefoundation.python.3.11_3.11.2544.0_x64__qbz5n2kfra8p0\\lib\\site-packages (from dash->jupyter_dash) (65.5.0)\n",
            "Requirement already satisfied: Jinja2>=3.1.2 in c:\\users\\admin\\appdata\\local\\packages\\pythonsoftwarefoundation.python.3.11_qbz5n2kfra8p0\\localcache\\local-packages\\python311\\site-packages (from flask->jupyter_dash) (3.1.5)\n",
            "Requirement already satisfied: itsdangerous>=2.1.2 in c:\\users\\admin\\appdata\\local\\packages\\pythonsoftwarefoundation.python.3.11_qbz5n2kfra8p0\\localcache\\local-packages\\python311\\site-packages (from flask->jupyter_dash) (2.2.0)\n",
            "Requirement already satisfied: click>=8.1.3 in c:\\users\\admin\\appdata\\local\\packages\\pythonsoftwarefoundation.python.3.11_qbz5n2kfra8p0\\localcache\\local-packages\\python311\\site-packages (from flask->jupyter_dash) (8.1.8)\n",
            "Requirement already satisfied: blinker>=1.6.2 in c:\\users\\admin\\appdata\\local\\packages\\pythonsoftwarefoundation.python.3.11_qbz5n2kfra8p0\\localcache\\local-packages\\python311\\site-packages (from flask->jupyter_dash) (1.9.0)\n",
            "Requirement already satisfied: comm>=0.1.1 in c:\\users\\admin\\appdata\\local\\packages\\pythonsoftwarefoundation.python.3.11_qbz5n2kfra8p0\\localcache\\local-packages\\python311\\site-packages (from ipykernel->jupyter_dash) (0.2.2)\n",
            "Requirement already satisfied: debugpy>=1.6.5 in c:\\users\\admin\\appdata\\local\\packages\\pythonsoftwarefoundation.python.3.11_qbz5n2kfra8p0\\localcache\\local-packages\\python311\\site-packages (from ipykernel->jupyter_dash) (1.8.11)\n",
            "Requirement already satisfied: jupyter-client>=6.1.12 in c:\\users\\admin\\appdata\\local\\packages\\pythonsoftwarefoundation.python.3.11_qbz5n2kfra8p0\\localcache\\local-packages\\python311\\site-packages (from ipykernel->jupyter_dash) (8.6.3)\n",
            "Requirement already satisfied: jupyter-core!=5.0.*,>=4.12 in c:\\users\\admin\\appdata\\local\\packages\\pythonsoftwarefoundation.python.3.11_qbz5n2kfra8p0\\localcache\\local-packages\\python311\\site-packages (from ipykernel->jupyter_dash) (5.7.2)\n",
            "Requirement already satisfied: matplotlib-inline>=0.1 in c:\\users\\admin\\appdata\\local\\packages\\pythonsoftwarefoundation.python.3.11_qbz5n2kfra8p0\\localcache\\local-packages\\python311\\site-packages (from ipykernel->jupyter_dash) (0.1.7)\n",
            "Requirement already satisfied: packaging in c:\\users\\admin\\appdata\\local\\packages\\pythonsoftwarefoundation.python.3.11_qbz5n2kfra8p0\\localcache\\local-packages\\python311\\site-packages (from ipykernel->jupyter_dash) (24.2)\n",
            "Requirement already satisfied: psutil in c:\\users\\admin\\appdata\\local\\packages\\pythonsoftwarefoundation.python.3.11_qbz5n2kfra8p0\\localcache\\local-packages\\python311\\site-packages (from ipykernel->jupyter_dash) (6.1.1)\n",
            "Requirement already satisfied: pyzmq>=24 in c:\\users\\admin\\appdata\\local\\packages\\pythonsoftwarefoundation.python.3.11_qbz5n2kfra8p0\\localcache\\local-packages\\python311\\site-packages (from ipykernel->jupyter_dash) (26.2.0)\n",
            "Requirement already satisfied: tornado>=6.1 in c:\\users\\admin\\appdata\\local\\packages\\pythonsoftwarefoundation.python.3.11_qbz5n2kfra8p0\\localcache\\local-packages\\python311\\site-packages (from ipykernel->jupyter_dash) (6.4.2)\n",
            "Requirement already satisfied: traitlets>=5.4.0 in c:\\users\\admin\\appdata\\local\\packages\\pythonsoftwarefoundation.python.3.11_qbz5n2kfra8p0\\localcache\\local-packages\\python311\\site-packages (from ipykernel->jupyter_dash) (5.14.3)\n",
            "Requirement already satisfied: colorama in c:\\users\\admin\\appdata\\local\\packages\\pythonsoftwarefoundation.python.3.11_qbz5n2kfra8p0\\localcache\\local-packages\\python311\\site-packages (from ipython->jupyter_dash) (0.4.6)\n",
            "Requirement already satisfied: decorator in c:\\users\\admin\\appdata\\local\\packages\\pythonsoftwarefoundation.python.3.11_qbz5n2kfra8p0\\localcache\\local-packages\\python311\\site-packages (from ipython->jupyter_dash) (5.1.1)\n",
            "Requirement already satisfied: jedi>=0.16 in c:\\users\\admin\\appdata\\local\\packages\\pythonsoftwarefoundation.python.3.11_qbz5n2kfra8p0\\localcache\\local-packages\\python311\\site-packages (from ipython->jupyter_dash) (0.19.2)\n",
            "Requirement already satisfied: prompt_toolkit<3.1.0,>=3.0.41 in c:\\users\\admin\\appdata\\local\\packages\\pythonsoftwarefoundation.python.3.11_qbz5n2kfra8p0\\localcache\\local-packages\\python311\\site-packages (from ipython->jupyter_dash) (3.0.48)\n",
            "Requirement already satisfied: pygments>=2.4.0 in c:\\users\\admin\\appdata\\local\\packages\\pythonsoftwarefoundation.python.3.11_qbz5n2kfra8p0\\localcache\\local-packages\\python311\\site-packages (from ipython->jupyter_dash) (2.18.0)\n",
            "Requirement already satisfied: stack_data in c:\\users\\admin\\appdata\\local\\packages\\pythonsoftwarefoundation.python.3.11_qbz5n2kfra8p0\\localcache\\local-packages\\python311\\site-packages (from ipython->jupyter_dash) (0.6.3)\n",
            "Requirement already satisfied: charset-normalizer<4,>=2 in c:\\users\\admin\\appdata\\local\\packages\\pythonsoftwarefoundation.python.3.11_qbz5n2kfra8p0\\localcache\\local-packages\\python311\\site-packages (from requests->jupyter_dash) (3.4.1)\n",
            "Requirement already satisfied: idna<4,>=2.5 in c:\\users\\admin\\appdata\\local\\packages\\pythonsoftwarefoundation.python.3.11_qbz5n2kfra8p0\\localcache\\local-packages\\python311\\site-packages (from requests->jupyter_dash) (3.10)\n",
            "Requirement already satisfied: urllib3<3,>=1.21.1 in c:\\users\\admin\\appdata\\local\\packages\\pythonsoftwarefoundation.python.3.11_qbz5n2kfra8p0\\localcache\\local-packages\\python311\\site-packages (from requests->jupyter_dash) (2.3.0)\n",
            "Requirement already satisfied: certifi>=2017.4.17 in c:\\users\\admin\\appdata\\local\\packages\\pythonsoftwarefoundation.python.3.11_qbz5n2kfra8p0\\localcache\\local-packages\\python311\\site-packages (from requests->jupyter_dash) (2024.12.14)\n",
            "Requirement already satisfied: six>=1.7.0 in c:\\users\\admin\\appdata\\local\\packages\\pythonsoftwarefoundation.python.3.11_qbz5n2kfra8p0\\localcache\\local-packages\\python311\\site-packages (from retrying->jupyter_dash) (1.17.0)\n",
            "Requirement already satisfied: parso<0.9.0,>=0.8.4 in c:\\users\\admin\\appdata\\local\\packages\\pythonsoftwarefoundation.python.3.11_qbz5n2kfra8p0\\localcache\\local-packages\\python311\\site-packages (from jedi>=0.16->ipython->jupyter_dash) (0.8.4)\n",
            "Requirement already satisfied: MarkupSafe>=2.0 in c:\\users\\admin\\appdata\\local\\packages\\pythonsoftwarefoundation.python.3.11_qbz5n2kfra8p0\\localcache\\local-packages\\python311\\site-packages (from Jinja2>=3.1.2->flask->jupyter_dash) (3.0.2)\n",
            "Requirement already satisfied: python-dateutil>=2.8.2 in c:\\users\\admin\\appdata\\local\\packages\\pythonsoftwarefoundation.python.3.11_qbz5n2kfra8p0\\localcache\\local-packages\\python311\\site-packages (from jupyter-client>=6.1.12->ipykernel->jupyter_dash) (2.9.0.post0)\n",
            "Requirement already satisfied: platformdirs>=2.5 in c:\\users\\admin\\appdata\\local\\packages\\pythonsoftwarefoundation.python.3.11_qbz5n2kfra8p0\\localcache\\local-packages\\python311\\site-packages (from jupyter-core!=5.0.*,>=4.12->ipykernel->jupyter_dash) (4.3.6)\n",
            "Requirement already satisfied: pywin32>=300 in c:\\users\\admin\\appdata\\local\\packages\\pythonsoftwarefoundation.python.3.11_qbz5n2kfra8p0\\localcache\\local-packages\\python311\\site-packages (from jupyter-core!=5.0.*,>=4.12->ipykernel->jupyter_dash) (308)\n",
            "Requirement already satisfied: tenacity>=6.2.0 in c:\\users\\admin\\appdata\\local\\packages\\pythonsoftwarefoundation.python.3.11_qbz5n2kfra8p0\\localcache\\local-packages\\python311\\site-packages (from plotly>=5.0.0->dash->jupyter_dash) (9.0.0)\n",
            "Requirement already satisfied: wcwidth in c:\\users\\admin\\appdata\\local\\packages\\pythonsoftwarefoundation.python.3.11_qbz5n2kfra8p0\\localcache\\local-packages\\python311\\site-packages (from prompt_toolkit<3.1.0,>=3.0.41->ipython->jupyter_dash) (0.2.13)\n",
            "Requirement already satisfied: zipp>=3.20 in c:\\users\\admin\\appdata\\local\\packages\\pythonsoftwarefoundation.python.3.11_qbz5n2kfra8p0\\localcache\\local-packages\\python311\\site-packages (from importlib-metadata->dash->jupyter_dash) (3.21.0)\n",
            "Requirement already satisfied: executing>=1.2.0 in c:\\users\\admin\\appdata\\local\\packages\\pythonsoftwarefoundation.python.3.11_qbz5n2kfra8p0\\localcache\\local-packages\\python311\\site-packages (from stack_data->ipython->jupyter_dash) (2.1.0)\n",
            "Requirement already satisfied: asttokens>=2.1.0 in c:\\users\\admin\\appdata\\local\\packages\\pythonsoftwarefoundation.python.3.11_qbz5n2kfra8p0\\localcache\\local-packages\\python311\\site-packages (from stack_data->ipython->jupyter_dash) (3.0.0)\n",
            "Requirement already satisfied: pure-eval in c:\\users\\admin\\appdata\\local\\packages\\pythonsoftwarefoundation.python.3.11_qbz5n2kfra8p0\\localcache\\local-packages\\python311\\site-packages (from stack_data->ipython->jupyter_dash) (0.2.3)\n",
            "Downloading jupyter_dash-0.4.2-py3-none-any.whl (23 kB)\n",
            "Downloading ansi2html-1.9.2-py3-none-any.whl (17 kB)\n",
            "Installing collected packages: ansi2html, jupyter_dash\n",
            "Successfully installed ansi2html-1.9.2 jupyter_dash-0.4.2\n"
          ]
        },
        {
          "name": "stderr",
          "output_type": "stream",
          "text": [
            "\n",
            "[notice] A new release of pip is available: 24.0 -> 24.3.1\n",
            "[notice] To update, run: C:\\Users\\Admin\\AppData\\Local\\Microsoft\\WindowsApps\\PythonSoftwareFoundation.Python.3.11_qbz5n2kfra8p0\\python.exe -m pip install --upgrade pip\n"
          ]
        },
        {
          "name": "stdout",
          "output_type": "stream",
          "text": [
            "Collecting dash_bootstrap_components\n",
            "  Downloading dash_bootstrap_components-1.6.0-py3-none-any.whl.metadata (5.2 kB)\n",
            "Requirement already satisfied: dash>=2.0.0 in c:\\users\\admin\\appdata\\local\\packages\\pythonsoftwarefoundation.python.3.11_qbz5n2kfra8p0\\localcache\\local-packages\\python311\\site-packages (from dash_bootstrap_components) (2.18.2)\n",
            "Requirement already satisfied: Flask<3.1,>=1.0.4 in c:\\users\\admin\\appdata\\local\\packages\\pythonsoftwarefoundation.python.3.11_qbz5n2kfra8p0\\localcache\\local-packages\\python311\\site-packages (from dash>=2.0.0->dash_bootstrap_components) (3.0.3)\n",
            "Requirement already satisfied: Werkzeug<3.1 in c:\\users\\admin\\appdata\\local\\packages\\pythonsoftwarefoundation.python.3.11_qbz5n2kfra8p0\\localcache\\local-packages\\python311\\site-packages (from dash>=2.0.0->dash_bootstrap_components) (3.0.6)\n",
            "Requirement already satisfied: plotly>=5.0.0 in c:\\users\\admin\\appdata\\local\\packages\\pythonsoftwarefoundation.python.3.11_qbz5n2kfra8p0\\localcache\\local-packages\\python311\\site-packages (from dash>=2.0.0->dash_bootstrap_components) (5.24.1)\n",
            "Requirement already satisfied: dash-html-components==2.0.0 in c:\\users\\admin\\appdata\\local\\packages\\pythonsoftwarefoundation.python.3.11_qbz5n2kfra8p0\\localcache\\local-packages\\python311\\site-packages (from dash>=2.0.0->dash_bootstrap_components) (2.0.0)\n",
            "Requirement already satisfied: dash-core-components==2.0.0 in c:\\users\\admin\\appdata\\local\\packages\\pythonsoftwarefoundation.python.3.11_qbz5n2kfra8p0\\localcache\\local-packages\\python311\\site-packages (from dash>=2.0.0->dash_bootstrap_components) (2.0.0)\n",
            "Requirement already satisfied: dash-table==5.0.0 in c:\\users\\admin\\appdata\\local\\packages\\pythonsoftwarefoundation.python.3.11_qbz5n2kfra8p0\\localcache\\local-packages\\python311\\site-packages (from dash>=2.0.0->dash_bootstrap_components) (5.0.0)\n",
            "Requirement already satisfied: importlib-metadata in c:\\users\\admin\\appdata\\local\\packages\\pythonsoftwarefoundation.python.3.11_qbz5n2kfra8p0\\localcache\\local-packages\\python311\\site-packages (from dash>=2.0.0->dash_bootstrap_components) (8.5.0)\n",
            "Requirement already satisfied: typing-extensions>=4.1.1 in c:\\users\\admin\\appdata\\local\\packages\\pythonsoftwarefoundation.python.3.11_qbz5n2kfra8p0\\localcache\\local-packages\\python311\\site-packages (from dash>=2.0.0->dash_bootstrap_components) (4.12.2)\n",
            "Requirement already satisfied: requests in c:\\users\\admin\\appdata\\local\\packages\\pythonsoftwarefoundation.python.3.11_qbz5n2kfra8p0\\localcache\\local-packages\\python311\\site-packages (from dash>=2.0.0->dash_bootstrap_components) (2.32.3)\n",
            "Requirement already satisfied: retrying in c:\\users\\admin\\appdata\\local\\packages\\pythonsoftwarefoundation.python.3.11_qbz5n2kfra8p0\\localcache\\local-packages\\python311\\site-packages (from dash>=2.0.0->dash_bootstrap_components) (1.3.4)\n",
            "Requirement already satisfied: nest-asyncio in c:\\users\\admin\\appdata\\local\\packages\\pythonsoftwarefoundation.python.3.11_qbz5n2kfra8p0\\localcache\\local-packages\\python311\\site-packages (from dash>=2.0.0->dash_bootstrap_components) (1.6.0)\n",
            "Requirement already satisfied: setuptools in c:\\program files\\windowsapps\\pythonsoftwarefoundation.python.3.11_3.11.2544.0_x64__qbz5n2kfra8p0\\lib\\site-packages (from dash>=2.0.0->dash_bootstrap_components) (65.5.0)\n",
            "Requirement already satisfied: Jinja2>=3.1.2 in c:\\users\\admin\\appdata\\local\\packages\\pythonsoftwarefoundation.python.3.11_qbz5n2kfra8p0\\localcache\\local-packages\\python311\\site-packages (from Flask<3.1,>=1.0.4->dash>=2.0.0->dash_bootstrap_components) (3.1.5)\n",
            "Requirement already satisfied: itsdangerous>=2.1.2 in c:\\users\\admin\\appdata\\local\\packages\\pythonsoftwarefoundation.python.3.11_qbz5n2kfra8p0\\localcache\\local-packages\\python311\\site-packages (from Flask<3.1,>=1.0.4->dash>=2.0.0->dash_bootstrap_components) (2.2.0)\n",
            "Requirement already satisfied: click>=8.1.3 in c:\\users\\admin\\appdata\\local\\packages\\pythonsoftwarefoundation.python.3.11_qbz5n2kfra8p0\\localcache\\local-packages\\python311\\site-packages (from Flask<3.1,>=1.0.4->dash>=2.0.0->dash_bootstrap_components) (8.1.8)\n",
            "Requirement already satisfied: blinker>=1.6.2 in c:\\users\\admin\\appdata\\local\\packages\\pythonsoftwarefoundation.python.3.11_qbz5n2kfra8p0\\localcache\\local-packages\\python311\\site-packages (from Flask<3.1,>=1.0.4->dash>=2.0.0->dash_bootstrap_components) (1.9.0)\n",
            "Requirement already satisfied: tenacity>=6.2.0 in c:\\users\\admin\\appdata\\local\\packages\\pythonsoftwarefoundation.python.3.11_qbz5n2kfra8p0\\localcache\\local-packages\\python311\\site-packages (from plotly>=5.0.0->dash>=2.0.0->dash_bootstrap_components) (9.0.0)\n",
            "Requirement already satisfied: packaging in c:\\users\\admin\\appdata\\local\\packages\\pythonsoftwarefoundation.python.3.11_qbz5n2kfra8p0\\localcache\\local-packages\\python311\\site-packages (from plotly>=5.0.0->dash>=2.0.0->dash_bootstrap_components) (24.2)\n",
            "Requirement already satisfied: MarkupSafe>=2.1.1 in c:\\users\\admin\\appdata\\local\\packages\\pythonsoftwarefoundation.python.3.11_qbz5n2kfra8p0\\localcache\\local-packages\\python311\\site-packages (from Werkzeug<3.1->dash>=2.0.0->dash_bootstrap_components) (3.0.2)\n",
            "Requirement already satisfied: zipp>=3.20 in c:\\users\\admin\\appdata\\local\\packages\\pythonsoftwarefoundation.python.3.11_qbz5n2kfra8p0\\localcache\\local-packages\\python311\\site-packages (from importlib-metadata->dash>=2.0.0->dash_bootstrap_components) (3.21.0)\n",
            "Requirement already satisfied: charset-normalizer<4,>=2 in c:\\users\\admin\\appdata\\local\\packages\\pythonsoftwarefoundation.python.3.11_qbz5n2kfra8p0\\localcache\\local-packages\\python311\\site-packages (from requests->dash>=2.0.0->dash_bootstrap_components) (3.4.1)\n",
            "Requirement already satisfied: idna<4,>=2.5 in c:\\users\\admin\\appdata\\local\\packages\\pythonsoftwarefoundation.python.3.11_qbz5n2kfra8p0\\localcache\\local-packages\\python311\\site-packages (from requests->dash>=2.0.0->dash_bootstrap_components) (3.10)\n",
            "Requirement already satisfied: urllib3<3,>=1.21.1 in c:\\users\\admin\\appdata\\local\\packages\\pythonsoftwarefoundation.python.3.11_qbz5n2kfra8p0\\localcache\\local-packages\\python311\\site-packages (from requests->dash>=2.0.0->dash_bootstrap_components) (2.3.0)\n",
            "Requirement already satisfied: certifi>=2017.4.17 in c:\\users\\admin\\appdata\\local\\packages\\pythonsoftwarefoundation.python.3.11_qbz5n2kfra8p0\\localcache\\local-packages\\python311\\site-packages (from requests->dash>=2.0.0->dash_bootstrap_components) (2024.12.14)\n",
            "Requirement already satisfied: six>=1.7.0 in c:\\users\\admin\\appdata\\local\\packages\\pythonsoftwarefoundation.python.3.11_qbz5n2kfra8p0\\localcache\\local-packages\\python311\\site-packages (from retrying->dash>=2.0.0->dash_bootstrap_components) (1.17.0)\n",
            "Requirement already satisfied: colorama in c:\\users\\admin\\appdata\\local\\packages\\pythonsoftwarefoundation.python.3.11_qbz5n2kfra8p0\\localcache\\local-packages\\python311\\site-packages (from click>=8.1.3->Flask<3.1,>=1.0.4->dash>=2.0.0->dash_bootstrap_components) (0.4.6)\n",
            "Downloading dash_bootstrap_components-1.6.0-py3-none-any.whl (222 kB)\n",
            "   ---------------------------------------- 0.0/222.5 kB ? eta -:--:--\n",
            "   - -------------------------------------- 10.2/222.5 kB ? eta -:--:--\n",
            "   ------- ------------------------------- 41.0/222.5 kB 495.5 kB/s eta 0:00:01\n",
            "   -------------------------------------- - 215.0/222.5 kB 1.9 MB/s eta 0:00:01\n",
            "   ---------------------------------------- 222.5/222.5 kB 1.7 MB/s eta 0:00:00\n",
            "Installing collected packages: dash_bootstrap_components\n",
            "Successfully installed dash_bootstrap_components-1.6.0\n"
          ]
        },
        {
          "name": "stderr",
          "output_type": "stream",
          "text": [
            "\n",
            "[notice] A new release of pip is available: 24.0 -> 24.3.1\n",
            "[notice] To update, run: C:\\Users\\Admin\\AppData\\Local\\Microsoft\\WindowsApps\\PythonSoftwareFoundation.Python.3.11_qbz5n2kfra8p0\\python.exe -m pip install --upgrade pip\n"
          ]
        },
        {
          "name": "stdout",
          "output_type": "stream",
          "text": [
            "Collecting plotly.express\n",
            "  Downloading plotly_express-0.4.1-py2.py3-none-any.whl.metadata (1.7 kB)\n",
            "Requirement already satisfied: pandas>=0.20.0 in c:\\users\\admin\\appdata\\local\\packages\\pythonsoftwarefoundation.python.3.11_qbz5n2kfra8p0\\localcache\\local-packages\\python311\\site-packages (from plotly.express) (2.2.3)\n",
            "Requirement already satisfied: plotly>=4.1.0 in c:\\users\\admin\\appdata\\local\\packages\\pythonsoftwarefoundation.python.3.11_qbz5n2kfra8p0\\localcache\\local-packages\\python311\\site-packages (from plotly.express) (5.24.1)\n",
            "Collecting statsmodels>=0.9.0 (from plotly.express)\n",
            "  Downloading statsmodels-0.14.4-cp311-cp311-win_amd64.whl.metadata (9.5 kB)\n",
            "Collecting scipy>=0.18 (from plotly.express)\n",
            "  Downloading scipy-1.15.0-cp311-cp311-win_amd64.whl.metadata (60 kB)\n",
            "     ---------------------------------------- 0.0/60.8 kB ? eta -:--:--\n",
            "     ------ --------------------------------- 10.2/60.8 kB ? eta -:--:--\n",
            "     -------------------------------------- 60.8/60.8 kB 814.9 kB/s eta 0:00:00\n",
            "Collecting patsy>=0.5 (from plotly.express)\n",
            "  Downloading patsy-1.0.1-py2.py3-none-any.whl.metadata (3.3 kB)\n",
            "Requirement already satisfied: numpy>=1.11 in c:\\users\\admin\\appdata\\local\\packages\\pythonsoftwarefoundation.python.3.11_qbz5n2kfra8p0\\localcache\\local-packages\\python311\\site-packages (from plotly.express) (2.2.1)\n",
            "Requirement already satisfied: python-dateutil>=2.8.2 in c:\\users\\admin\\appdata\\local\\packages\\pythonsoftwarefoundation.python.3.11_qbz5n2kfra8p0\\localcache\\local-packages\\python311\\site-packages (from pandas>=0.20.0->plotly.express) (2.9.0.post0)\n",
            "Requirement already satisfied: pytz>=2020.1 in c:\\users\\admin\\appdata\\local\\packages\\pythonsoftwarefoundation.python.3.11_qbz5n2kfra8p0\\localcache\\local-packages\\python311\\site-packages (from pandas>=0.20.0->plotly.express) (2024.2)\n",
            "Requirement already satisfied: tzdata>=2022.7 in c:\\users\\admin\\appdata\\local\\packages\\pythonsoftwarefoundation.python.3.11_qbz5n2kfra8p0\\localcache\\local-packages\\python311\\site-packages (from pandas>=0.20.0->plotly.express) (2024.2)\n",
            "Requirement already satisfied: tenacity>=6.2.0 in c:\\users\\admin\\appdata\\local\\packages\\pythonsoftwarefoundation.python.3.11_qbz5n2kfra8p0\\localcache\\local-packages\\python311\\site-packages (from plotly>=4.1.0->plotly.express) (9.0.0)\n",
            "Requirement already satisfied: packaging in c:\\users\\admin\\appdata\\local\\packages\\pythonsoftwarefoundation.python.3.11_qbz5n2kfra8p0\\localcache\\local-packages\\python311\\site-packages (from plotly>=4.1.0->plotly.express) (24.2)\n",
            "Requirement already satisfied: six>=1.5 in c:\\users\\admin\\appdata\\local\\packages\\pythonsoftwarefoundation.python.3.11_qbz5n2kfra8p0\\localcache\\local-packages\\python311\\site-packages (from python-dateutil>=2.8.2->pandas>=0.20.0->plotly.express) (1.17.0)\n",
            "Downloading plotly_express-0.4.1-py2.py3-none-any.whl (2.9 kB)\n",
            "Downloading patsy-1.0.1-py2.py3-none-any.whl (232 kB)\n",
            "   ---------------------------------------- 0.0/232.9 kB ? eta -:--:--\n",
            "   ---------------------------------------- 232.9/232.9 kB 7.0 MB/s eta 0:00:00\n",
            "Downloading scipy-1.15.0-cp311-cp311-win_amd64.whl (43.9 MB)\n",
            "   ---------------------------------------- 0.0/43.9 MB ? eta -:--:--\n",
            "    --------------------------------------- 0.8/43.9 MB 24.8 MB/s eta 0:00:02\n",
            "   - -------------------------------------- 1.5/43.9 MB 18.9 MB/s eta 0:00:03\n",
            "   -- ------------------------------------- 2.4/43.9 MB 18.8 MB/s eta 0:00:03\n",
            "   -- ------------------------------------- 3.3/43.9 MB 19.0 MB/s eta 0:00:03\n",
            "   ---- ----------------------------------- 4.6/43.9 MB 20.9 MB/s eta 0:00:02\n",
            "   ----- ---------------------------------- 5.9/43.9 MB 22.3 MB/s eta 0:00:02\n",
            "   ------ --------------------------------- 7.3/43.9 MB 23.3 MB/s eta 0:00:02\n",
            "   -------- ------------------------------- 8.8/43.9 MB 24.6 MB/s eta 0:00:02\n",
            "   --------- ------------------------------ 10.5/43.9 MB 25.2 MB/s eta 0:00:02\n",
            "   ----------- ---------------------------- 12.4/43.9 MB 31.2 MB/s eta 0:00:02\n",
            "   ------------- -------------------------- 14.6/43.9 MB 36.4 MB/s eta 0:00:01\n",
            "   --------------- ------------------------ 17.4/43.9 MB 43.5 MB/s eta 0:00:01\n",
            "   ------------------ --------------------- 20.3/43.9 MB 54.4 MB/s eta 0:00:01\n",
            "   --------------------- ------------------ 23.3/43.9 MB 59.8 MB/s eta 0:00:01\n",
            "   ----------------------- ---------------- 26.0/43.9 MB 59.5 MB/s eta 0:00:01\n",
            "   -------------------------- ------------- 28.8/43.9 MB 59.5 MB/s eta 0:00:01\n",
            "   ---------------------------- ----------- 31.5/43.9 MB 59.5 MB/s eta 0:00:01\n",
            "   ------------------------------- -------- 34.2/43.9 MB 59.5 MB/s eta 0:00:01\n",
            "   --------------------------------- ------ 37.2/43.9 MB 59.5 MB/s eta 0:00:01\n",
            "   ------------------------------------ --- 40.1/43.9 MB 59.5 MB/s eta 0:00:01\n",
            "   ---------------------------------------  42.8/43.9 MB 59.5 MB/s eta 0:00:01\n",
            "   ---------------------------------------  43.9/43.9 MB 59.5 MB/s eta 0:00:01\n",
            "   ---------------------------------------  43.9/43.9 MB 59.5 MB/s eta 0:00:01\n",
            "   ---------------------------------------  43.9/43.9 MB 59.5 MB/s eta 0:00:01\n",
            "   ---------------------------------------- 43.9/43.9 MB 31.2 MB/s eta 0:00:00\n",
            "Downloading statsmodels-0.14.4-cp311-cp311-win_amd64.whl (9.9 MB)\n",
            "   ---------------------------------------- 0.0/9.9 MB ? eta -:--:--\n",
            "   ---------- ----------------------------- 2.7/9.9 MB 56.2 MB/s eta 0:00:01\n",
            "   ---------------------- ----------------- 5.5/9.9 MB 58.2 MB/s eta 0:00:01\n",
            "   --------------------------------- ------ 8.3/9.9 MB 58.7 MB/s eta 0:00:01\n",
            "   ---------------------------------------  9.9/9.9 MB 63.1 MB/s eta 0:00:01\n",
            "   ---------------------------------------- 9.9/9.9 MB 48.5 MB/s eta 0:00:00\n",
            "Installing collected packages: scipy, patsy, statsmodels, plotly.express\n",
            "Successfully installed patsy-1.0.1 plotly.express-0.4.1 scipy-1.15.0 statsmodels-0.14.4\n"
          ]
        },
        {
          "name": "stderr",
          "output_type": "stream",
          "text": [
            "\n",
            "[notice] A new release of pip is available: 24.0 -> 24.3.1\n",
            "[notice] To update, run: C:\\Users\\Admin\\AppData\\Local\\Microsoft\\WindowsApps\\PythonSoftwareFoundation.Python.3.11_qbz5n2kfra8p0\\python.exe -m pip install --upgrade pip\n"
          ]
        }
      ],
      "source": [
        "!pip install pandas\n",
        "!pip install plotly\n",
        "!pip install dash\n",
        "!pip install dash-html-components\n",
        "!pip install dash-core-components\n",
        "!pip install requests\n",
        "!pip install wget\n",
        "!pip install jupyter_dash\n",
        "!pip install dash_bootstrap_components\n",
        "!pip install plotly.express\n",
        "\n"
      ]
    },
    {
      "cell_type": "code",
      "execution_count": 2,
      "metadata": {
        "colab": {
          "base_uri": "https://localhost:8080/",
          "height": 862
        },
        "id": "cawCJqsfPh2w",
        "outputId": "dcd316e9-8831-47c3-90a5-37c12cba4285"
      },
      "outputs": [
        {
          "name": "stderr",
          "output_type": "stream",
          "text": [
            "C:\\Users\\Admin\\AppData\\Local\\Temp\\ipykernel_12604\\1694653203.py:4: UserWarning: \n",
            "The dash_html_components package is deprecated. Please replace\n",
            "`import dash_html_components as html` with `from dash import html`\n",
            "  import dash_html_components as html\n",
            "C:\\Users\\Admin\\AppData\\Local\\Temp\\ipykernel_12604\\1694653203.py:5: UserWarning: \n",
            "The dash_core_components package is deprecated. Please replace\n",
            "`import dash_core_components as dcc` with `from dash import dcc`\n",
            "  import dash_core_components as dcc\n",
            "'wget' is not recognized as an internal or external command,\n",
            "operable program or batch file.\n"
          ]
        },
        {
          "data": {
            "text/html": [
              "\n",
              "        <iframe\n",
              "            width=\"100%\"\n",
              "            height=\"650\"\n",
              "            src=\"http://127.0.0.1:8050/\"\n",
              "            frameborder=\"0\"\n",
              "            allowfullscreen\n",
              "            \n",
              "        ></iframe>\n",
              "        "
            ],
            "text/plain": [
              "<IPython.lib.display.IFrame at 0x2391d0290d0>"
            ]
          },
          "metadata": {},
          "output_type": "display_data"
        }
      ],
      "source": [
        "# Import required libraries\n",
        "import pandas as pd\n",
        "import dash\n",
        "import dash_html_components as html\n",
        "import dash_core_components as dcc\n",
        "from dash.dependencies import Input, Output\n",
        "import plotly.express as px\n",
        "\n",
        "\n",
        "# Set up ngrok tunnel\n",
        "#public_url = ngrok.connect(port='8050')\n",
        "#print('Dash app running on:', public_url)\n",
        "\n",
        "\n",
        "!wget \"https://cf-courses-data.s3.us.cloud-object-storage.appdomain.cloud/IBM-DS0321EN-SkillsNetwork/datasets/spacex_launch_dash.csv\"\n",
        "\n",
        "# Read the airline data into pandas dataframe\n",
        "spacex_df = pd.read_csv(\"spacex_launch_dash.csv\")\n",
        "max_payload = spacex_df['Payload Mass (kg)'].max()\n",
        "min_payload = spacex_df['Payload Mass (kg)'].min()\n",
        "\n",
        "## Create options for the dropdown including 'All Sites' and unique launch sites\n",
        "dropdown_options = [{'label': 'All Sites', 'value': 'ALL'}] + [{'label': site, 'value': site} for site in spacex_df['Launch Site'].unique()]\n",
        "\n",
        "# Create a dash application\n",
        "app = dash.Dash(__name__)\n",
        "\n",
        "# Create an app layout\n",
        "app.layout = html.Div(children=[html.H1('SpaceX Launch Records Dashboard',\n",
        "                                        style={'textAlign': 'center', 'color': '#503D36',\n",
        "                                               'font-size': 40}),\n",
        "                                # TASK 1: Add a dropdown list to enable Launch Site selection\n",
        "                                # The default select value is for ALL sites\n",
        "                                # dcc.Dropdown(id='site-dropdown',...)\n",
        "                                dcc.Dropdown(id='site-dropdown',\n",
        "                                       options=dropdown_options,\n",
        "                                       value='ALL',  # Default value\n",
        "                                       placeholder=\"Select a Launch Site here\",\n",
        "                                       searchable=True),\n",
        "                                html.Br(),\n",
        "\n",
        "                                # TASK 2: Add a pie chart to show the total successful launches count for all sites\n",
        "                                # If a specific launch site was selected, show the Success vs. Failed counts for the site\n",
        "                                html.Div(dcc.Graph(id='success-pie-chart')),\n",
        "                                html.Br(),\n",
        "\n",
        "                                html.P(\"Payload range (Kg):\"),\n",
        "                                # TASK 3: Add a slider to select payload range\n",
        "                                #dcc.RangeSlider(id='payload-slider',...)\n",
        "                                dcc.RangeSlider(\n",
        "                                    id='payload-slider',  # Set the id to 'payload-slider'\n",
        "                                    min=0,  # Starting point of the slider\n",
        "                                    max=10000,  # Ending point of the slider\n",
        "                                    step=1000,  # Interval step of the slider\n",
        "                                    marks={0: '0 kg', 1000: '1000 kg', 2000: '2000 kg', 3000: '3000 kg', 4000: '4000 kg',\n",
        "                                           5000: '5000 kg', 6000: '6000 kg', 7000: '7000 kg', 8000: '8000 kg', 9000: '9000 kg',\n",
        "                                           10000: '10000 kg'},  # Marks on the slider\n",
        "                                    value=[min_payload, max_payload]  # Current selected range\n",
        "                                ),\n",
        "                                html.Br(),\n",
        "\n",
        "\n",
        "\n",
        "                                # TASK 4: Add a scatter chart to show the correlation between payload and launch success\n",
        "                                html.Div(dcc.Graph(id='success-payload-scatter-chart')),\n",
        "                                ])\n",
        "# TASK 2:\n",
        "# Add a callback function for `site-dropdown` as input, `success-pie-chart` as output\n",
        "# Function decorator to specify function input and output\n",
        "@app.callback(\n",
        "    Output(component_id='success-pie-chart', component_property='figure'),\n",
        "    Input(component_id='site-dropdown', component_property='value')\n",
        ")\n",
        "def get_pie_chart(entered_site):\n",
        "    # If ALL sites are selected, show the total success count across all sites\n",
        "    if entered_site == 'ALL':\n",
        "        fig = px.pie(spacex_df,\n",
        "                     values='class',\n",
        "                     names='Launch Site',\n",
        "                     title='Total Success Launches for All Sites')\n",
        "        return fig\n",
        "    else:\n",
        "        # Filter the dataframe for the selected site\n",
        "        filtered_df = spacex_df[spacex_df['Launch Site'] == entered_site]\n",
        "        # Generate pie chart for the selected site's success vs failure\n",
        "        fig = px.pie(filtered_df,\n",
        "                     names='class',\n",
        "                     title=f\"Success vs Failure for site {entered_site}\",\n",
        "                     hole=.3)\n",
        "        return fig\n",
        "\n",
        "# TASK 4:\n",
        "# Add a callback function for `site-dropdown` and `payload-slider` as inputs, `success-payload-scatter-chart` as output\n",
        "@app.callback(\n",
        "    Output(component_id='success-payload-scatter-chart', component_property='figure'),\n",
        "    [Input(component_id='site-dropdown', component_property='value'),\n",
        "     Input(component_id='payload-slider', component_property='value')]\n",
        ")\n",
        "def update_scatter_chart(selected_site, payload_range):\n",
        "    # Filter the dataframe based on the payload range\n",
        "    filtered_df = spacex_df[(spacex_df['Payload Mass (kg)'] >= payload_range[0]) &\n",
        "                            (spacex_df['Payload Mass (kg)'] <= payload_range[1])]\n",
        "\n",
        "    if selected_site == 'ALL':\n",
        "        # Plot scatter chart for all sites\n",
        "        fig = px.scatter(filtered_df,\n",
        "                         x='Payload Mass (kg)',\n",
        "                         y='class',\n",
        "                         color='Booster Version Category',\n",
        "                         title='Correlation between Payload Mass and Launch Outcome (All Sites)',\n",
        "                         labels={'class': 'Launch Outcome (0: Failure, 1: Success)'})\n",
        "    else:\n",
        "        # Filter the dataframe for the selected site\n",
        "        filtered_df = filtered_df[filtered_df['Launch Site'] == selected_site]\n",
        "        # Plot scatter chart for the selected site\n",
        "        fig = px.scatter(filtered_df,\n",
        "                         x='Payload Mass (kg)',\n",
        "                         y='class',\n",
        "                         color='Booster Version Category',\n",
        "                         title=f'Correlation between Payload Mass and Launch Outcome for {selected_site}',\n",
        "                         labels={'class': 'Launch Outcome (0: Failure, 1: Success)'})\n",
        "\n",
        "    return fig\n",
        "\n",
        "\n",
        "\n",
        "#python3.11 spacex_dash_app.py\n",
        "# Run the app\n",
        "if __name__ == '__main__':\n",
        "    app.run_server(port=8050)"
      ]
    },
    {
      "cell_type": "code",
      "execution_count": 5,
      "metadata": {
        "colab": {
          "base_uri": "https://localhost:8080/"
        },
        "id": "oPTLcCLvZFLv",
        "outputId": "ff3063a4-89de-4375-e98f-3b9606b2f640"
      },
      "outputs": [
        {
          "ename": "SyntaxError",
          "evalue": "invalid syntax (133548737.py, line 1)",
          "output_type": "error",
          "traceback": [
            "\u001b[1;36m  Cell \u001b[1;32mIn[5], line 1\u001b[1;36m\u001b[0m\n\u001b[1;33m    pip3 install dash\u001b[0m\n\u001b[1;37m         ^\u001b[0m\n\u001b[1;31mSyntaxError\u001b[0m\u001b[1;31m:\u001b[0m invalid syntax\n"
          ]
        }
      ],
      "source": [
        "\n",
        "!python3 -m dash.run --port 8050\n"
      ]
    }
  ],
  "metadata": {
    "colab": {
      "provenance": []
    },
    "kernelspec": {
      "display_name": "Python 3",
      "name": "python3"
    },
    "language_info": {
      "codemirror_mode": {
        "name": "ipython",
        "version": 3
      },
      "file_extension": ".py",
      "mimetype": "text/x-python",
      "name": "python",
      "nbconvert_exporter": "python",
      "pygments_lexer": "ipython3",
      "version": "3.11.9"
    }
  },
  "nbformat": 4,
  "nbformat_minor": 0
}
